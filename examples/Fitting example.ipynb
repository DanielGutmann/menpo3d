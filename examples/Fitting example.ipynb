{
 "cells": [
  {
   "cell_type": "markdown",
   "metadata": {},
   "source": [
    "This is an example of how to use the implementation to fit the BFM to an image (in the images folder) \n",
    "using the hybrid method and without illumination parameters.\n",
    "\n",
    "Dependencies:\n",
    "    - menpo, menpodetect, menpo3d, menpofit, menpowidgets\n",
    "    - BFM shape and texture pickle files: 'shape_PCAModel.pkl' and 'texture_PCAModel.pkl'\n",
    "    - BFM landmarks: 'template.LJSON'\n",
    "    \n",
    "Note that the pythonpath to menpo3d should be replaced with the path to the repo."
   ]
  },
  {
   "cell_type": "code",
   "execution_count": null,
   "metadata": {
    "collapsed": false
   },
   "outputs": [],
   "source": [
    "from menpo3d.morphablemodel import ColouredMorphableModel\n",
    "from menpo3d.morphablemodel.fitter import MMFitter"
   ]
  },
  {
   "cell_type": "code",
   "execution_count": null,
   "metadata": {
    "collapsed": false
   },
   "outputs": [],
   "source": [
    "import menpo.io as mio\n",
    "import menpo3d.io as m3io\n",
    "from pathlib import Path\n",
    "\n",
    "# Import the model\n",
    "# './shape_PCAModel.pkl' is the path to the shape PCA model\n",
    "# './texture_PCAModel.pkl' is the path to the texture PCA model\n",
    "# './template.LJSON' is the path to the model landmarks\n",
    "def init_mm_from_file(shape_path, texture_path, landmarks_path=None):\n",
    "        shape = mio.import_pickle(shape_path)\n",
    "        texture = mio.import_pickle(texture_path)\n",
    "        if landmarks_path is not None:\n",
    "            landmarks = m3io.import_landmark_file(landmarks_path).lms\n",
    "        else:\n",
    "            landmarks = None\n",
    "        return ColouredMorphableModel(shape, texture, landmarks)\n",
    "    \n",
    "\n",
    "root = Path('/Users/jab08/Dropbox/shared/loubna/')\n",
    "model = init_mm_from_file(root  / 'shape_PCAModel.pkl', \n",
    "                          root / 'texture_PCAModel.pkl', \n",
    "                          root / 'template.LJSON')"
   ]
  },
  {
   "cell_type": "code",
   "execution_count": null,
   "metadata": {
    "collapsed": false
   },
   "outputs": [],
   "source": [
    "# Create a fitter for the model\n",
    "fitter = MMFitter(model)"
   ]
  },
  {
   "cell_type": "code",
   "execution_count": null,
   "metadata": {
    "collapsed": false
   },
   "outputs": [],
   "source": [
    "# Do the fitting\n",
    "%matplotlib inline\n",
    "image_name = 'C2_039'\n",
    "fitter.fit('./images/'+ image_name +'.jpg', n_alphas=100, n_betas=100, n_tris=1000, max_iters=50)"
   ]
  },
  {
   "cell_type": "code",
   "execution_count": null,
   "metadata": {
    "collapsed": false
   },
   "outputs": [],
   "source": [
    "# Visualise the result\n",
    "import menpo.io as mio\n",
    "%matplotlib inline\n",
    "fitter.visualize_result()"
   ]
  },
  {
   "cell_type": "code",
   "execution_count": null,
   "metadata": {
    "collapsed": false
   },
   "outputs": [],
   "source": [
    "# Plot the error\n",
    "%matplotlib inline\n",
    "fitter.plot_error(image_name)"
   ]
  }
 ],
 "metadata": {
  "kernelspec": {
   "display_name": "Python 2",
   "language": "python",
   "name": "python2"
  },
  "language_info": {
   "codemirror_mode": {
    "name": "ipython",
    "version": 2
   },
   "file_extension": ".py",
   "mimetype": "text/x-python",
   "name": "python",
   "nbconvert_exporter": "python",
   "pygments_lexer": "ipython2",
   "version": "2.7.11"
  }
 },
 "nbformat": 4,
 "nbformat_minor": 0
}
